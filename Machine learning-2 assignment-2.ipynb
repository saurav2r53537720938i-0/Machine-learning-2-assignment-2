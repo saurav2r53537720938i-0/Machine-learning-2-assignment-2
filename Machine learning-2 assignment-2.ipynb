{
 "cells": [
  {
   "cell_type": "markdown",
   "id": "6ae7a48f-c878-42f1-992a-07b20f2f6ab6",
   "metadata": {},
   "source": [
    "Overfitting occurs when a machine learning model learns the training data too well,capturing noise or random flucations rather than the underlying pattern thids result in poor genralaziation to new.\n",
    "* Consqyences of overfitting:\n",
    "1. poor performance on unseen data \n",
    "2. High variance in prdections\n",
    "3. Difficulty in interpreeting the model"
   ]
  },
  {
   "cell_type": "markdown",
   "id": "432cfcfc-eaec-468c-b77e-c595f4592516",
   "metadata": {},
   "source": [
    "To reduce overfitting you can:\n",
    "1. Use more data\n",
    "2. Feature selection\n",
    "3. Regularization\n",
    "4. Cross-valdiation\n",
    "5. Early stopping\n",
    "6. Ensemble methods\n",
    "7. Data argumentation"
   ]
  },
  {
   "cell_type": "markdown",
   "id": "3b182471-ae0b-4642-b907-363cbe6ced4f",
   "metadata": {},
   "source": [
    "In the context of a list scenrio,underfitting can occur if the model is too simplistic to capture the underlying pattern or relationship between the items in the list.for example items in the list for example cosider.Underfitting in this scenrio would mean that the model's prediction are too simplistic and do not accuartely reflect the true relationship between size and price.The model might predict similar prices"
   ]
  },
  {
   "cell_type": "markdown",
   "id": "7ee53c81-4a06-441f-8657-5deaacfcfcb2",
   "metadata": {},
   "source": [
    "The bias-variance tradeoff in machine learning refers to the balance between bias and variance in a model bias refers to the error introduced by approximating a real world problem with a simplified model to miss relavant pattern in the data leading to underliffting.variance on the other hand refers to the model "
   ]
  },
  {
   "cell_type": "markdown",
   "id": "e47ae9d1-a1cf-47bc-b732-812058df3df4",
   "metadata": {},
   "source": [
    "Detecting overfitting and underfitting in machine learning models is crucial for machine learning models is crucial for ensuring the model genrlasie well to unseen data.\n",
    "1. Cross-Validation\n",
    "2. Learning curves\n",
    "3. Validation curves\n",
    "4. Model complexity anylasis\n",
    "5. Residual anylasis\n",
    "6. Regularization Techniques"
   ]
  },
  {
   "cell_type": "markdown",
   "id": "8f599820-9bec-4253-8522-713aee42797f",
   "metadata": {},
   "source": [
    "Bias and variance are two important concept in machine learning that describe diffrent aspects of a model predictive performance:\n",
    "1. Bias:bias refers to the error introduced by approximating a real-world problem with a simplfied model.High bias model have strong assumption about the underlying data distribution and may not capture the true relationship between features and the target variable\n",
    "2. Variance: variance refers to the models senstivity to flucations in the traning data .High variance models are complex and can fit the trann"
   ]
  }
 ],
 "metadata": {
  "kernelspec": {
   "display_name": "Python 3 (ipykernel)",
   "language": "python",
   "name": "python3"
  },
  "language_info": {
   "codemirror_mode": {
    "name": "ipython",
    "version": 3
   },
   "file_extension": ".py",
   "mimetype": "text/x-python",
   "name": "python",
   "nbconvert_exporter": "python",
   "pygments_lexer": "ipython3",
   "version": "3.10.8"
  }
 },
 "nbformat": 4,
 "nbformat_minor": 5
}
